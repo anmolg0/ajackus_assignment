{
  "nbformat": 4,
  "nbformat_minor": 0,
  "metadata": {
    "colab": {
      "provenance": [],
      "authorship_tag": "ABX9TyN2zT/v0tZyXvTR7xL2NWtQ",
      "include_colab_link": true
    },
    "kernelspec": {
      "name": "python3",
      "display_name": "Python 3"
    },
    "language_info": {
      "name": "python"
    }
  },
  "cells": [
    {
      "cell_type": "markdown",
      "metadata": {
        "id": "view-in-github",
        "colab_type": "text"
      },
      "source": [
        "<a href=\"https://colab.research.google.com/github/anmolg0/ajackus_assignment/blob/main/Database_file.ipynb\" target=\"_parent\"><img src=\"https://colab.research.google.com/assets/colab-badge.svg\" alt=\"Open In Colab\"/></a>"
      ]
    },
    {
      "cell_type": "code",
      "execution_count": null,
      "metadata": {
        "colab": {
          "base_uri": "https://localhost:8080/"
        },
        "id": "8oV1EPKir89p",
        "outputId": "a12b7667-e6ba-4756-e742-3fea35b6f05a"
      },
      "outputs": [
        {
          "output_type": "stream",
          "name": "stderr",
          "text": [
            "/usr/local/lib/python3.11/dist-packages/spacy/util.py:1740: UserWarning: [W111] Jupyter notebook detected: if using `prefer_gpu()` or `require_gpu()`, include it in the same cell right before `spacy.load()` to ensure that the model is loaded on the correct device. More information: http://spacy.io/usage/v3#jupyter-notebook-gpu\n",
            "  warnings.warn(Warnings.W111)\n"
          ]
        },
        {
          "output_type": "stream",
          "name": "stdout",
          "text": [
            "Chat Assistant: How can I help you?\n",
            "You: Show me all employees in the Sales department.\n",
            "Chat Assistant: Alice\n",
            "You: Who is the manager of the Engineering department?\n",
            "Chat Assistant: Bob\n",
            "You: exit\n",
            "Chat Assistant: Goodbye!\n"
          ]
        }
      ],
      "source": [
        "import sqlite3\n",
        "\n",
        "# Connect to SQLite database (or create it if it doesn't exist)\n",
        "conn = sqlite3.connect('company.db')\n",
        "cursor = conn.cursor()\n",
        "\n",
        "# Create Employees table\n",
        "cursor.execute('''\n",
        "CREATE TABLE Employees (\n",
        "    ID INTEGER PRIMARY KEY,\n",
        "    Name TEXT NOT NULL,\n",
        "    Department TEXT NOT NULL,\n",
        "    Salary INTEGER NOT NULL,\n",
        "    Hire_Date TEXT NOT NULL\n",
        ")\n",
        "''')\n",
        "\n",
        "# Insert data into Employees table\n",
        "cursor.executemany('''\n",
        "INSERT INTO Employees (ID, Name, Department, Salary, Hire_Date)\n",
        "VALUES (?, ?, ?, ?, ?)\n",
        "''', [\n",
        "    (1, 'Alice', 'Sales', 50000, '2021-01-15'),\n",
        "    (2, 'Bob', 'Engineering', 70000, '2020-06-10'),\n",
        "    (3, 'Charlie', 'Marketing', 60000, '2022-03-20')\n",
        "])\n",
        "\n",
        "# Create Departments table\n",
        "cursor.execute('''\n",
        "CREATE TABLE Departments (\n",
        "    ID INTEGER PRIMARY KEY,\n",
        "    Name TEXT NOT NULL,\n",
        "    Manager TEXT NOT NULL\n",
        ")\n",
        "''')\n",
        "\n",
        "# Insert data into Departments table\n",
        "cursor.executemany('''\n",
        "INSERT INTO Departments (ID, Name, Manager)\n",
        "VALUES (?, ?, ?)\n",
        "''', [\n",
        "    (1, 'Sales', 'Alice'),\n",
        "    (2, 'Engineering', 'Bob'),\n",
        "    (3, 'Marketing', 'Charlie')\n",
        "])\n",
        "\n",
        "# Commit the changes and close the connection\n",
        "conn.commit()\n",
        "conn.close()\n",
        "\n",
        "print(\"Database created successfully with the provided tables and data.\")\n"
      ]
    }
  ]
}