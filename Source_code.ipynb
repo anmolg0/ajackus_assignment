{
  "nbformat": 4,
  "nbformat_minor": 0,
  "metadata": {
    "colab": {
      "provenance": [],
      "authorship_tag": "ABX9TyOutSvRlfC+AsRJ5/lOqFNq",
      "include_colab_link": true
    },
    "kernelspec": {
      "name": "python3",
      "display_name": "Python 3"
    },
    "language_info": {
      "name": "python"
    }
  },
  "cells": [
    {
      "cell_type": "markdown",
      "metadata": {
        "id": "view-in-github",
        "colab_type": "text"
      },
      "source": [
        "<a href=\"https://colab.research.google.com/github/anmolg0/ajackus_assignment/blob/main/Source_code.ipynb\" target=\"_parent\"><img src=\"https://colab.research.google.com/assets/colab-badge.svg\" alt=\"Open In Colab\"/></a>"
      ]
    },
    {
      "cell_type": "code",
      "execution_count": 3,
      "metadata": {
        "colab": {
          "base_uri": "https://localhost:8080/"
        },
        "id": "8oV1EPKir89p",
        "outputId": "a12b7667-e6ba-4756-e742-3fea35b6f05a"
      },
      "outputs": [
        {
          "output_type": "stream",
          "name": "stderr",
          "text": [
            "/usr/local/lib/python3.11/dist-packages/spacy/util.py:1740: UserWarning: [W111] Jupyter notebook detected: if using `prefer_gpu()` or `require_gpu()`, include it in the same cell right before `spacy.load()` to ensure that the model is loaded on the correct device. More information: http://spacy.io/usage/v3#jupyter-notebook-gpu\n",
            "  warnings.warn(Warnings.W111)\n"
          ]
        },
        {
          "output_type": "stream",
          "name": "stdout",
          "text": [
            "Chat Assistant: How can I help you?\n",
            "You: Show me all employees in the Sales department.\n",
            "Chat Assistant: Alice\n",
            "You: Who is the manager of the Engineering department?\n",
            "Chat Assistant: Bob\n",
            "You: exit\n",
            "Chat Assistant: Goodbye!\n"
          ]
        }
      ],
      "source": [
        "import sqlite3\n",
        "import spacy\n",
        "import re\n",
        "\n",
        "# Load the spaCy model for natural language processing\n",
        "nlp = spacy.load(\"en_core_web_sm\")\n",
        "\n",
        "# Connect to the SQLite database\n",
        "conn = sqlite3.connect('company.db')\n",
        "cursor = conn.cursor()\n",
        "\n",
        "def fetch_data(query):\n",
        "    patterns = [\n",
        "        (r\"show me all employees in the (\\w+) department\", \"SELECT Name FROM Employees WHERE Department = ?\"),\n",
        "        (r\"who is the manager of the (\\w+) department\", \"SELECT Manager FROM Departments WHERE Name = ?\"),\n",
        "        (r\"list all employees hired after (\\d{4}-\\d{2}-\\d{2})\", \"SELECT Name FROM Employees WHERE Hire_Date > ?\"),\n",
        "        (r\"what is the total salary expense for the (\\w+) department\", \"SELECT SUM(Salary) FROM Employees WHERE Department = ?\")\n",
        "    ]\n",
        "\n",
        "    for pattern, sql_query in patterns:\n",
        "        match = re.search(pattern, query, re.IGNORECASE)\n",
        "        if match:\n",
        "            params = match.groups()\n",
        "            try:\n",
        "                cursor.execute(sql_query, params)\n",
        "                results = cursor.fetchall()\n",
        "                if not results:\n",
        "                    return \"No results found.\"\n",
        "                return results\n",
        "            except sqlite3.Error as e:\n",
        "                return f\"Database error: {e}\"\n",
        "\n",
        "    return \"I'm sorry, I didn't understand the query. Please try again.\"\n",
        "\n",
        "def chat_assistant():\n",
        "    print(\"Chat Assistant: How can I help you?\")\n",
        "    while True:\n",
        "        user_input = input(\"You: \")\n",
        "        if user_input.lower() in [\"exit\", \"quit\"]:\n",
        "            print(\"Chat Assistant: Goodbye!\")\n",
        "            break\n",
        "        data = fetch_data(user_input)\n",
        "        if isinstance(data, str):  # If the response is an error or message\n",
        "            print(f\"Chat Assistant: {data}\")\n",
        "        else:  # If the response is actual data\n",
        "            for row in data:\n",
        "                print(f\"Chat Assistant: {row[0]}\")\n",
        "\n",
        "if __name__ == \"__main__\":\n",
        "    chat_assistant()\n",
        "\n",
        "# Close the connection when done\n",
        "conn.close()\n"
      ]
    }
  ]
}